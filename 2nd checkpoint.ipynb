{
 "cells": [
  {
   "cell_type": "code",
   "execution_count": 1,
   "id": "7b34311e",
   "metadata": {},
   "outputs": [],
   "source": [
    "import random"
   ]
  },
  {
   "cell_type": "code",
   "execution_count": 3,
   "id": "7286cc4e",
   "metadata": {},
   "outputs": [
    {
     "name": "stdout",
     "output_type": "stream",
     "text": [
      "What is your name ? : Mohamed\n",
      "Hello Mohamed and welcome to the Guess the Number game!\n",
      "I'm thinking of a number between 1 and 100. Can you guess what it is?\n",
      "Enter your guess: 76\n",
      "Your guess is too low!, Guess again :87\n",
      "Your guess is too high!, Guess again :79\n",
      "Your guess is too low!, Guess again :80\n",
      "Your guess is too low!, Guess again :85\n",
      "\n",
      "\n",
      "Congratulations! 85 is the correct answer\n"
     ]
    }
   ],
   "source": [
    "name = input(\"What is your name ? : \")\n",
    "print(f\"Hello {name} and welcome to the Guess the Number game!\")\n",
    "print(\"I'm thinking of a number between 1 and 100. Can you guess what it is?\")\n",
    "\n",
    "a = random.randint(1,100)\n",
    "b = int(input(\"Enter your guess: \"))\n",
    "\n",
    "while a!=b:\n",
    "    c = a - b\n",
    "    if c < 0:\n",
    "        b = int(input(\"Your guess is too high!, Guess again :\")) #je pouvais également utiliser un print() et un input comme suit:\n",
    "    else:                                                        #print(\"your guess is too high, guess again!\")\n",
    "        b = int(input(\"Your guess is too low!, Guess again :\"))  #b = int(input(\"Enter your guess : \"))\n",
    "print(\"\\n\")\n",
    "print(f\"Congratulations! {b} is the correct answer\")\n"
   ]
  }
 ],
 "metadata": {
  "kernelspec": {
   "display_name": "Python 3 (ipykernel)",
   "language": "python",
   "name": "python3"
  },
  "language_info": {
   "codemirror_mode": {
    "name": "ipython",
    "version": 3
   },
   "file_extension": ".py",
   "mimetype": "text/x-python",
   "name": "python",
   "nbconvert_exporter": "python",
   "pygments_lexer": "ipython3",
   "version": "3.10.9"
  }
 },
 "nbformat": 4,
 "nbformat_minor": 5
}
